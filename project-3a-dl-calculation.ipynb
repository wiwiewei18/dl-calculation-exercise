{
 "cells": [
  {
   "cell_type": "markdown",
   "metadata": {},
   "source": [
    "# DL Calculation"
   ]
  },
  {
   "cell_type": "markdown",
   "metadata": {},
   "source": [
    "## Student Identity"
   ]
  },
  {
   "cell_type": "code",
   "execution_count": 3,
   "metadata": {},
   "outputs": [],
   "source": [
    "from rggrader import submit\n",
    "\n",
    "student_id = \"REAINTCZ\"\n",
    "name = \"Wiwie Sanjaya\"\n",
    "drive_link = \"\""
   ]
  },
  {
   "cell_type": "markdown",
   "metadata": {},
   "source": [
    "## Task 1"
   ]
  },
  {
   "cell_type": "markdown",
   "metadata": {},
   "source": [
    "Given\n",
    "\n",
    "$\n",
    "M =\n",
    "\\begin{bmatrix}\n",
    "-2 & 3 & 3 & 3 & -4 \\\\\n",
    "0 & -4 & -1 & 1 & 2 \\\\\n",
    "1 & 5 & 4 & 2 & 0 \\\\\n",
    "-2 & 5 & -5 & 3 & 1 \\\\\n",
    "-3 & 2 & 4 & 3 & 4 \\\\\n",
    "\\end{bmatrix}\n",
    "$\n",
    "$\n",
    "X = \\begin{bmatrix}\n",
    "a \\\\\n",
    "b \\\\\n",
    "c \\\\\n",
    "d \\\\\n",
    "e\n",
    "\\end{bmatrix}\n",
    "$\n",
    "$\n",
    "M \\cdot X ==\n",
    "\\begin{bmatrix}\n",
    "-33 \\\\\n",
    "9 \\\\\n",
    "-34 \\\\\n",
    "-38 \\\\\n",
    " -40\n",
    "\\end{bmatrix}\n",
    "$\n",
    "\n",
    "What is the value of $a + b + c + d + e$?"
   ]
  },
  {
   "cell_type": "code",
   "execution_count": 4,
   "metadata": {},
   "outputs": [
    {
     "name": "stdout",
     "output_type": "stream",
     "text": [
      "The value of a + b + c + d + e is: -10.0\n"
     ]
    }
   ],
   "source": [
    "import numpy as np\n",
    "\n",
    "M = np.array([\n",
    "    [-2, 3, 3, 3, -4],\n",
    "    [0, -4, -1, 1, 2],\n",
    "    [1, 5, 4, 2, 0],\n",
    "    [-2, 5, -5, 3, 1],\n",
    "    [-3, 2, 4, 3, 4]\n",
    "])\n",
    "\n",
    "result = np.array([-33, 9, -34, -38, -40])\n",
    "\n",
    "X = np.linalg.solve(M, result)\n",
    "\n",
    "total = np.sum(X)\n",
    "\n",
    "print(f\"The value of a + b + c + d + e is: {total}\")"
   ]
  },
  {
   "cell_type": "code",
   "execution_count": 5,
   "metadata": {},
   "outputs": [],
   "source": [
    "# assignment_id = \"09-deep-learning-project\"\n",
    "# question_id = \"q1_linear_algebra\"\n",
    "# submit(student_id, name, assignment_id, str(total), question_id, drive_link)"
   ]
  },
  {
   "cell_type": "markdown",
   "metadata": {},
   "source": [
    "## Task 2"
   ]
  },
  {
   "attachments": {
    "image.png": {
     "image/png": "[encoded data removed]"
    }
   },
   "cell_type": "markdown",
   "metadata": {},
   "source": [
    "What is the output of the following Neural Network?\n",
    "\n",
    "![image.png](attachment:image.png)"
   ]
  },
  {
   "cell_type": "code",
   "execution_count": 10,
   "metadata": {},
   "outputs": [
    {
     "name": "stdout",
     "output_type": "stream",
     "text": [
      "The output of the neural network is: 20\n"
     ]
    }
   ],
   "source": [
    "import numpy as np\n",
    "from utils.ann import Neuron, Layer, NeuralNetwork\n",
    "\n",
    "neuron1_1 = Neuron([4, 2], -2)\n",
    "neuron1_2 = Neuron([0, -1], -6)\n",
    "layer_1 = Layer([neuron1_1, neuron1_2])\n",
    "\n",
    "neuron2_1 = Neuron([2, 3], 4)\n",
    "layer_2 = Layer([neuron2_1])\n",
    "\n",
    "neural_network = NeuralNetwork([layer_1, layer_2])\n",
    "\n",
    "X = np.array([4, -3])\n",
    "\n",
    "output = neural_network.forward(X)[0]\n",
    "\n",
    "print(f\"The output of the neural network is: {output}\")"
   ]
  },
  {
   "cell_type": "code",
   "execution_count": 7,
   "metadata": {},
   "outputs": [],
   "source": [
    "# assignment_id = \"09-deep-learning-project\"\n",
    "# question_id = \"q2_simple_neural_network\"\n",
    "# submit(student_id, name, assignment_id, str(output), question_id, drive_link)"
   ]
  },
  {
   "cell_type": "markdown",
   "metadata": {},
   "source": [
    "## Task 3"
   ]
  },
  {
   "cell_type": "markdown",
   "metadata": {},
   "source": [
    "Given the following Neural Networks:\n",
    "\n",
    "First layer:\n",
    "\n",
    "$\n",
    "W = \\begin{bmatrix}\n",
    "0.23 & 0.67 & 0.12 \\\\\n",
    "-0.89 & -0.45 & 0.78 \\\\\n",
    "0.34 & 0.56 & -0.90 \\\\\n",
    "-0.12 & 0.34 & 0.56 \\\\\n",
    "0.78 & -0.90 & 0.23 \\\\\n",
    "\\end{bmatrix}\n",
    "$\n",
    "$\n",
    "bias = \\begin{bmatrix}\n",
    "0.23 \\\\\n",
    "-0.89 \\\\\n",
    "0.34 \\\\\n",
    "0.12 \\\\\n",
    "-0.78 \\\\\n",
    "\\end{bmatrix}\n",
    "$\n",
    "\n",
    "Second layer:\n",
    "\n",
    "$\n",
    "W = \\begin{bmatrix}\n",
    "0.23 & 0.67 & 0.12 & 0.45 & 0.89 \\\\\n",
    "0.12 & 0.34 & 0.56 & 0.78 & 0.90 \\\\\n",
    "\\end{bmatrix}\n",
    "$\n",
    "$\n",
    "bias = \\begin{bmatrix}\n",
    "1.96 \\\\\n",
    "-1.08 \\\\\n",
    "\\end{bmatrix}\n",
    "$\n",
    "\n",
    "Third layer:\n",
    "\n",
    "$\n",
    "W = \\begin{bmatrix}\n",
    "1.08 & -0.16\n",
    "\\end{bmatrix}\n",
    "$\n",
    "$\n",
    "bias = \\begin{bmatrix}\n",
    "-2.8\n",
    "\\end{bmatrix}\n",
    "$\n",
    "\n",
    "All layers use the ReLU activation function.\n",
    "\n",
    "What is the output given the following inputs?\n",
    "\n",
    "$\n",
    "X = \\begin{bmatrix}\n",
    "1 \\\\\n",
    "2 \\\\\n",
    "4 \\\\\n",
    "\\end{bmatrix}\n",
    "$\n"
   ]
  },
  {
   "cell_type": "code",
   "execution_count": 11,
   "metadata": {},
   "outputs": [
    {
     "name": "stdout",
     "output_type": "stream",
     "text": [
      "The output of the neural network is: 1.3613280000000012\n"
     ]
    }
   ],
   "source": [
    "from utils.ann import Neuron, Layer, NeuralNetwork\n",
    "\n",
    "neuron1_1 = Neuron([0.23, 0.67, 0.12], 0.23)\n",
    "neuron1_2 = Neuron([-0.89, -0.45, 0.78], -0.89)\n",
    "neuron1_3 = Neuron([0.34, 0.56, -0.90], 0.34)\n",
    "neuron1_4 = Neuron([-0.12, 0.34, 0.56], 0.12)\n",
    "neuron1_5 = Neuron([0.78, -0.90, 0.23], -0.78)\n",
    "layer1 = Layer([neuron1_1, neuron1_2, neuron1_3, neuron1_4, neuron1_5])\n",
    "\n",
    "neuron2_1 = Neuron([0.23, 0.67, 0.12, 0.45, 0.89], 1.96)\n",
    "neuron2_2 = Neuron([0.12, 0.34, 0.56, 0.78, 0.90], -1.08)\n",
    "layer2 = Layer([neuron2_1, neuron2_2])\n",
    "\n",
    "neuron3_1 = Neuron([1.08, -0.16], -2.8)\n",
    "layer3 = Layer([neuron3_1])\n",
    "\n",
    "neural_network = NeuralNetwork([layer1, layer2, layer3])\n",
    "\n",
    "X = np.array([1, 2, 4])\n",
    "\n",
    "output = neural_network.forward(X)[0]\n",
    "\n",
    "print(f\"The output of the neural network is: {output}\")"
   ]
  },
  {
   "cell_type": "code",
   "execution_count": 9,
   "metadata": {},
   "outputs": [],
   "source": [
    "# assignment_id = \"09-deep-learning-project\"\n",
    "# question_id = \"q3_complex_neural_network\"\n",
    "# submit(student_id, name, assignment_id, str(output), question_id, drive_link)"
   ]
  },
  {
   "cell_type": "markdown",
   "metadata": {},
   "source": [
    "## Task 4"
   ]
  },
  {
   "cell_type": "code",
   "execution_count": 12,
   "metadata": {},
   "outputs": [
    {
     "name": "stdout",
     "output_type": "stream",
     "text": [
      "The cost is 0.12\n"
     ]
    }
   ],
   "source": [
    "# Please clone the Google Sheet and do your calculation there\n",
    "\n",
    "# Please change this\n",
    "cost = 0.12\n",
    "\n",
    "# Don't forget to fill in the link to your Google Sheet\n",
    "link_to_gsheet = \"https://docs.google.com/spreadsheets/d/1Hqh-Qs2oGRidLpVRYVsyfg0vIFvK4LuYX7HVrtGFzkQ/edit?usp=sharing\"\n",
    "\n",
    "print(f\"The cost is {cost}\")\n",
    "\n",
    "# assignment_id = \"09-deep-learning-project\"\n",
    "\n",
    "# question_id = \"q4_cost_function_cost\"\n",
    "# submit(student_id, name, assignment_id, str(cost), question_id)\n",
    "\n",
    "# question_id = \"q4_cost_function_gsheet\"\n",
    "# submit(student_id, name, assignment_id, str(link_to_gsheet), question_id, drive_link)"
   ]
  },
  {
   "cell_type": "markdown",
   "metadata": {},
   "source": [
    "## Task 5"
   ]
  },
  {
   "cell_type": "code",
   "execution_count": null,
   "metadata": {},
   "outputs": [],
   "source": [
    "# Please clone the Google Sheet and do your calculation there\n",
    "\n",
    "# Please change this\n",
    "cost = 0\n",
    "\n",
    "# Don't forget to fill in the link to your Google Sheet\n",
    "link_to_gsheet = \"https://docs.google.com/spreadsheets/d/1Hqh-Qs2oGRidLpVRYVsyfg0vIFvK4LuYX7HVrtGFzkQ/edit?usp=sharing\"\n",
    "\n",
    "print(f\"The cost is {cost}\")\n",
    "\n",
    "# assignment_id = \"09-deep-learning-project\"\n",
    "\n",
    "# question_id = \"q5_cost_function_cost\"\n",
    "# submit(student_id, name, assignment_id, str(cost), question_id)\n",
    "\n",
    "# question_id = \"q5_cost_function_gsheet\"\n",
    "# submit(student_id, name, assignment_id, str(link_to_gsheet), question_id, drive_link)"
   ]
  }
 ],
 "metadata": {
  "kernelspec": {
   "display_name": "ruang-guru-playground",
   "language": "python",
   "name": "python3"
  },
  "language_info": {
   "codemirror_mode": {
    "name": "ipython",
    "version": 3
   },
   "file_extension": ".py",
   "mimetype": "text/x-python",
   "name": "python",
   "nbconvert_exporter": "python",
   "pygments_lexer": "ipython3",
   "version": "3.12.4"
  }
 },
 "nbformat": 4,
 "nbformat_minor": 2
}
